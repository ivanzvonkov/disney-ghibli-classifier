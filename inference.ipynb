{
 "cells": [
  {
   "cell_type": "code",
   "execution_count": 1,
   "metadata": {},
   "outputs": [],
   "source": [
    "import fastai\n",
    "from fastai.vision.all import cnn_learner, load_learner\n",
    "from fastai.vision.core import PILImage\n",
    "from fastai.vision.widgets import VBox, Button, FileUpload, Output, Label\n",
    "from fastai.vision import models\n",
    "\n",
    "from PIL import Image"
   ]
  },
  {
   "cell_type": "code",
   "execution_count": 2,
   "metadata": {},
   "outputs": [],
   "source": [
    "inf = load_learner('disney_ghibli.pkl')"
   ]
  },
  {
   "cell_type": "code",
   "execution_count": 3,
   "metadata": {},
   "outputs": [],
   "source": [
    "upload_button = FileUpload(accept=\"image\", multiple=False)\n",
    "classify_button = Button(description='Classify')\n",
    "clear_button = Button(description='Clear')\n",
    "out_pl = Output()\n",
    "label = Label('')"
   ]
  },
  {
   "cell_type": "code",
   "execution_count": 4,
   "metadata": {},
   "outputs": [],
   "source": [
    "def on_classify(change):\n",
    "    img = PILImage.create(upload_button.data[-1])\n",
    "    out_pl.clear_output()\n",
    "    with out_pl: display(img.to_thumb(400,400))\n",
    "    pred,pred_idx,probs = inf.predict(img)\n",
    "    label.value = f'Prediction: {pred}; Probability: {probs[pred_idx]:.04f}'\n",
    "    \n",
    "classify_button.on_click(on_classify)"
   ]
  },
  {
   "cell_type": "code",
   "execution_count": 5,
   "metadata": {},
   "outputs": [],
   "source": [
    "def on_clear(change):\n",
    "    out_pl.clear_output()\n",
    "    upload_button = FileUpload(accept=\"image\", multiple=False)\n",
    "    label.value = ''\n",
    "\n",
    "clear_button.on_click(on_clear)"
   ]
  },
  {
   "cell_type": "code",
   "execution_count": 6,
   "metadata": {},
   "outputs": [
    {
     "data": {
      "application/vnd.jupyter.widget-view+json": {
       "model_id": "28edad854399403b9812766394d79a08",
       "version_major": 2,
       "version_minor": 0
      },
      "text/plain": [
       "VBox(children=(Output(), FileUpload(value={}, accept='image', description='Upload'), Button(description='Class…"
      ]
     },
     "metadata": {},
     "output_type": "display_data"
    }
   ],
   "source": [
    "VBox([out_pl, upload_button, classify_button, clear_button, label])"
   ]
  },
  {
   "cell_type": "code",
   "execution_count": null,
   "metadata": {},
   "outputs": [],
   "source": []
  }
 ],
 "metadata": {
  "kernelspec": {
   "display_name": "Python 3",
   "language": "python",
   "name": "python3"
  },
  "language_info": {
   "codemirror_mode": {
    "name": "ipython",
    "version": 3
   },
   "file_extension": ".py",
   "mimetype": "text/x-python",
   "name": "python",
   "nbconvert_exporter": "python",
   "pygments_lexer": "ipython3",
   "version": "3.7.6"
  }
 },
 "nbformat": 4,
 "nbformat_minor": 4
}
